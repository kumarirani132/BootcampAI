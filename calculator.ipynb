{
  "nbformat": 4,
  "nbformat_minor": 0,
  "metadata": {
    "colab": {
      "provenance": [],
      "authorship_tag": "ABX9TyOyYjc5H6CAM2iT/lW9MAj9",
      "include_colab_link": true
    },
    "kernelspec": {
      "name": "python3",
      "display_name": "Python 3"
    },
    "language_info": {
      "name": "python"
    }
  },
  "cells": [
    {
      "cell_type": "markdown",
      "metadata": {
        "id": "view-in-github",
        "colab_type": "text"
      },
      "source": [
        "<a href=\"https://colab.research.google.com/github/kumarirani132/BootcampAI/blob/main/Untitled5.ipynb\" target=\"_parent\"><img src=\"https://colab.research.google.com/assets/colab-badge.svg\" alt=\"Open In Colab\"/></a>"
      ]
    },
    {
      "cell_type": "code",
      "execution_count": 1,
      "metadata": {
        "colab": {
          "base_uri": "https://localhost:8080/"
        },
        "id": "nER2F8fCGVUf",
        "outputId": "33d59ca0-cdb9-4192-8ab4-95d4b5c5ac52"
      },
      "outputs": [
        {
          "output_type": "stream",
          "name": "stdout",
          "text": [
            "Welcome to the Calculator!\n",
            "Select operation:\n",
            "1. Addition (+)\n",
            "2. Subtraction (-)\n",
            "3. Multiplication (*)\n",
            "4. Division (/)\n",
            "Enter choice (1/2/3/4): 3+6\n",
            "Invalid input. Please select a valid operation.\n"
          ]
        }
      ],
      "source": [
        "def calculator():\n",
        "    print(\"Welcome to the Calculator!\")\n",
        "    print(\"Select operation:\")\n",
        "    print(\"1. Addition (+)\")\n",
        "    print(\"2. Subtraction (-)\")\n",
        "    print(\"3. Multiplication (*)\")\n",
        "    print(\"4. Division (/)\")\n",
        "\n",
        "    try:\n",
        "        choice = input(\"Enter choice (1/2/3/4): \")\n",
        "\n",
        "        if choice in ['1', '2', '3', '4']:\n",
        "            num1 = float(input(\"Enter first number: \"))\n",
        "            num2 = float(input(\"Enter second number: \"))\n",
        "\n",
        "            if choice == '1':\n",
        "                print(f\"The result is: {num1 + num2}\")\n",
        "            elif choice == '2':\n",
        "                print(f\"The result is: {num1 - num2}\")\n",
        "            elif choice == '3':\n",
        "                print(f\"The result is: {num1 * num2}\")\n",
        "            elif choice == '4':\n",
        "                if num2 != 0:\n",
        "                    print(f\"The result is: {num1 / num2}\")\n",
        "                else:\n",
        "                    print(\"Error: Division by zero is not allowed.\")\n",
        "        else:\n",
        "            print(\"Invalid input. Please select a valid operation.\")\n",
        "    except ValueError:\n",
        "        print(\"Error: Please enter numeric values only.\")\n",
        "\n",
        "# Run the calculator\n",
        "calculator()\n"
      ]
    }
  ]
}
